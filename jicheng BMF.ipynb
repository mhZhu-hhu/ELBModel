{
 "cells": [
  {
   "cell_type": "code",
   "execution_count": 1,
   "metadata": {},
   "outputs": [
    {
     "name": "stderr",
     "output_type": "stream",
     "text": [
      " 45%|████████████████████████████████████▏                                           | 120/265 [00:05<00:03, 40.13it/s]"
     ]
    },
    {
     "name": "stdout",
     "output_type": "stream",
     "text": [
      "C:\\Users\\11936\\AppData\\Roaming\\Python\\Python37\\site-packages\\numpy\\core\\fromnumeric.py:86: RuntimeWarning: overflow encountered in reduce\n",
      "  return ufunc.reduce(obj, axis, dtype, out, **passkwargs)\n"
     ]
    },
    {
     "name": "stderr",
     "output_type": "stream",
     "text": [
      "100%|████████████████████████████████████████████████████████████████████████████████| 265/265 [00:08<00:00, 30.23it/s]\n",
      "100%|██████████████████████████████████████████████████████████████████████████████████| 66/66 [00:03<00:00, 17.04it/s]\n"
     ]
    }
   ],
   "source": [
    "import pandas as pd\n",
    "import xgboost as xgb\n",
    "from sklearn.ensemble import GradientBoostingRegressor\n",
    "from sklearn.ensemble import RandomForestRegressor\n",
    "from sklearn.model_selection import KFold \n",
    "from mordred import Calculator, descriptors\n",
    "from rdkit import Chem, DataStructs\n",
    "from rdkit.Chem import AllChem\n",
    "from rdkit.ML.Descriptors import MoleculeDescriptors\n",
    "from rdkit.Chem import Descriptors\n",
    "from rdkit.Chem.EState import Fingerprinter\n",
    "from rdkit.Chem import PandasTools\n",
    "from sklearn.preprocessing import StandardScaler \n",
    "from sklearn.svm import SVR\n",
    "datatra=pd.read_csv('BMF_train.csv',encoding = 'gbk')\n",
    "dataext=pd.read_csv('BMF_test.csv',encoding = 'gbk')\n",
    "y=datatra.iloc[:,1]\n",
    "y2=dataext.iloc[:,1]\n",
    "PandasTools.AddMoleculeColumnToFrame(datatra,'SMILES','Molecule')\n",
    "PandasTools.AddMoleculeColumnToFrame(dataext,'SMILES','Molecule')\n",
    "calc = Calculator(descriptors, ignore_3D=True)\n",
    "X= pd.DataFrame(calc.pandas(datatra['Molecule']))\n",
    "X2= pd.DataFrame(calc.pandas(dataext['Molecule']))\n",
    "data1=pd.concat([X,X2])\n",
    "data1=data1._get_numeric_data()\n",
    "X=data1.iloc[:265,:]\n",
    "X2=data1.iloc[265:]\n",
    "scaler = StandardScaler()\n",
    "X = scaler.fit_transform(X)\n",
    "X2 = scaler.transform(X2) \n",
    "default_cv = KFold(n_splits=10, shuffle=True, random_state=666)"
   ]
  },
  {
   "cell_type": "code",
   "execution_count": 2,
   "metadata": {},
   "outputs": [],
   "source": [
    "import numpy as np\n",
    "from sklearn.metrics import r2_score,mean_squared_error,mean_absolute_error\n",
    "RF=RandomForestRegressor(max_depth=10, max_features='sqrt',min_samples_leaf= 3,min_samples_split=2,n_estimators=800,random_state=42)\n",
    "SVR=SVR(C=0.0015, kernel='linear',max_iter= 900)\n",
    "XGB=xgb.XGBRegressor(n_estimators=400,\n",
    "    max_depth=9,\n",
    "    learning_rate=1,\n",
    "    gamma=4,\n",
    "    subsample=0.90,\n",
    "    colsample_bytree=0.85)\n",
    "GBR=GradientBoostingRegressor(learning_rate=0.0177,max_depth=8, max_features='sqrt',min_samples_leaf= 5,min_samples_split=2,\n",
    "                               n_estimators=200,random_state=42)\n"
   ]
  },
  {
   "cell_type": "code",
   "execution_count": 3,
   "metadata": {},
   "outputs": [],
   "source": [
    "from mlxtend.regressor import StackingCVRegressor\n",
    "from sklearn.linear_model import LinearRegression\n",
    "lr = LinearRegression()\n",
    "## 两两集成\n",
    "stack1 = StackingCVRegressor(regressors=[RF,SVR],\n",
    "                            meta_regressor = lr,\n",
    "                            use_features_in_secondary=False)  # #\n",
    "stack2 = StackingCVRegressor(regressors=[RF,GBR],\n",
    "                            meta_regressor = lr,\n",
    "                            use_features_in_secondary=False )  # #\n",
    "stack3 = StackingCVRegressor(regressors=[RF,XGB],\n",
    "                            meta_regressor = lr,\n",
    "                            use_features_in_secondary=False )  # #\n",
    "stack4 = StackingCVRegressor(regressors=[XGB,SVR],\n",
    "                            meta_regressor = lr,\n",
    "                            use_features_in_secondary=False )  # #\n",
    "stack5 = StackingCVRegressor(regressors=[XGB,GBR],\n",
    "                            meta_regressor = lr,\n",
    "                            use_features_in_secondary=False )  # #\n",
    "stack6 = StackingCVRegressor(regressors=[GBR,SVR],\n",
    "                            meta_regressor = lr,\n",
    "                            use_features_in_secondary=False )  # #"
   ]
  },
  {
   "cell_type": "code",
   "execution_count": 4,
   "metadata": {},
   "outputs": [],
   "source": [
    "## 三个集成\n",
    "stack7 = StackingCVRegressor(regressors=[XGB,SVR,RF],\n",
    "                            meta_regressor = lr,\n",
    "                            use_features_in_secondary=False)  # #\n",
    "stack8 = StackingCVRegressor(regressors=[XGB,SVR,GBR],\n",
    "                            meta_regressor = lr,\n",
    "                            use_features_in_secondary=False )  # #\n",
    "stack9 = StackingCVRegressor(regressors=[XGB,GBR,RF],\n",
    "                            meta_regressor = lr,\n",
    "                            use_features_in_secondary=False )  # #\n",
    "stack10 = StackingCVRegressor(regressors=[GBR,SVR,RF],\n",
    "                            meta_regressor = lr,\n",
    "                            use_features_in_secondary=False )  # #\n",
    "#四个\n",
    "stack11 = StackingCVRegressor(regressors=[XGB,SVR,RF,GBR],\n",
    "                            meta_regressor = lr,\n",
    "                            use_features_in_secondary=False )  # #"
   ]
  },
  {
   "cell_type": "code",
   "execution_count": 5,
   "metadata": {},
   "outputs": [
    {
     "ename": "NameError",
     "evalue": "name 'cross_val_score' is not defined",
     "output_type": "error",
     "traceback": [
      "\u001b[1;31m---------------------------------------------------------------------------\u001b[0m",
      "\u001b[1;31mNameError\u001b[0m                                 Traceback (most recent call last)",
      "\u001b[1;32m~\\AppData\\Local\\Temp/ipykernel_39928/2465726151.py\u001b[0m in \u001b[0;36m<module>\u001b[1;34m\u001b[0m\n\u001b[0;32m     31\u001b[0m for model in [stack1,stack2,stack3,stack4,stack5,\n\u001b[0;32m     32\u001b[0m                         stack6,stack7,stack8,stack9,stack10,stack11]: \n\u001b[1;32m---> 33\u001b[1;33m     \u001b[0mscore\u001b[0m \u001b[1;33m=\u001b[0m \u001b[0mevaluate_model\u001b[0m\u001b[1;33m(\u001b[0m\u001b[0mmodel\u001b[0m\u001b[1;33m)\u001b[0m     \u001b[1;31m#,xgb_re,'XGBoost',\u001b[0m\u001b[1;33m\u001b[0m\u001b[1;33m\u001b[0m\u001b[0m\n\u001b[0m\u001b[0;32m     34\u001b[0m     \u001b[0mre\u001b[0m\u001b[1;33m.\u001b[0m\u001b[0mappend\u001b[0m\u001b[1;33m(\u001b[0m\u001b[0mscore\u001b[0m\u001b[1;33m)\u001b[0m\u001b[1;33m\u001b[0m\u001b[1;33m\u001b[0m\u001b[0m\n\u001b[0;32m     35\u001b[0m     \u001b[0mna\u001b[0m\u001b[1;33m.\u001b[0m\u001b[0mappend\u001b[0m\u001b[1;33m(\u001b[0m\u001b[0mlabel\u001b[0m\u001b[1;33m)\u001b[0m\u001b[1;33m\u001b[0m\u001b[1;33m\u001b[0m\u001b[0m\n",
      "\u001b[1;32m~\\AppData\\Local\\Temp/ipykernel_39928/2465726151.py\u001b[0m in \u001b[0;36mevaluate_model\u001b[1;34m(model)\u001b[0m\n\u001b[0;32m     24\u001b[0m \u001b[1;32mdef\u001b[0m \u001b[0mevaluate_model\u001b[0m\u001b[1;33m(\u001b[0m\u001b[0mmodel\u001b[0m\u001b[1;33m)\u001b[0m\u001b[1;33m:\u001b[0m\u001b[1;33m\u001b[0m\u001b[1;33m\u001b[0m\u001b[0m\n\u001b[0;32m     25\u001b[0m     \u001b[0mcv\u001b[0m \u001b[1;33m=\u001b[0m \u001b[0mKFold\u001b[0m\u001b[1;33m(\u001b[0m\u001b[0mn_splits\u001b[0m\u001b[1;33m=\u001b[0m\u001b[1;36m10\u001b[0m\u001b[1;33m,\u001b[0m \u001b[0mshuffle\u001b[0m\u001b[1;33m=\u001b[0m\u001b[1;32mTrue\u001b[0m\u001b[1;33m,\u001b[0m \u001b[0mrandom_state\u001b[0m\u001b[1;33m=\u001b[0m\u001b[1;36m666\u001b[0m\u001b[1;33m)\u001b[0m\u001b[1;33m\u001b[0m\u001b[1;33m\u001b[0m\u001b[0m\n\u001b[1;32m---> 26\u001b[1;33m     \u001b[0mscores\u001b[0m \u001b[1;33m=\u001b[0m \u001b[0mcross_val_score\u001b[0m\u001b[1;33m(\u001b[0m\u001b[0mmodel\u001b[0m\u001b[1;33m,\u001b[0m \u001b[0mX\u001b[0m\u001b[1;33m,\u001b[0m \u001b[0my\u001b[0m\u001b[1;33m,\u001b[0m \u001b[0mscoring\u001b[0m\u001b[1;33m=\u001b[0m\u001b[1;34m'r2'\u001b[0m\u001b[1;33m,\u001b[0m \u001b[0mcv\u001b[0m\u001b[1;33m=\u001b[0m\u001b[0mcv\u001b[0m\u001b[1;33m)\u001b[0m\u001b[1;33m\u001b[0m\u001b[1;33m\u001b[0m\u001b[0m\n\u001b[0m\u001b[0;32m     27\u001b[0m     \u001b[1;31m#scores = np.sqrt(mean_squared_error(train_y.astype('int'),model.predict(train_x.values)))\u001b[0m\u001b[1;33m\u001b[0m\u001b[1;33m\u001b[0m\u001b[1;33m\u001b[0m\u001b[0m\n\u001b[0;32m     28\u001b[0m     \u001b[1;32mreturn\u001b[0m \u001b[0mscores\u001b[0m\u001b[1;33m\u001b[0m\u001b[1;33m\u001b[0m\u001b[0m\n",
      "\u001b[1;31mNameError\u001b[0m: name 'cross_val_score' is not defined"
     ]
    }
   ],
   "source": [
    "def fit_model(model):\n",
    "    RANDOM_SEED = 42\n",
    "    np.random.seed(RANDOM_SEED)\n",
    "    model.fit(X,y) \n",
    "    fit = model.predict(X)\n",
    "    pre = model.predict(X2)\n",
    "    r2_tra = r2_score(y,fit)\n",
    "    r2_ext = r2_score(y2, pre)\n",
    "    rmse_tra = np.sqrt(mean_squared_error(y,fit))\n",
    "    rmse_ext = np.sqrt(mean_squared_error(y2,pre))\n",
    "    mae_tra = mean_absolute_error(y,fit)\n",
    "    mae_ext = mean_absolute_error(y2,pre)\n",
    "    return  r2_tra,r2_ext,rmse_tra, rmse_ext, mae_tra, mae_ext \n",
    "\n",
    "results = []\n",
    "names = []\n",
    "for model,label in zip([stack1,stack2,stack3,stack4,stack5,\n",
    "                        stack6,stack7,stack8,stack9,stack10,stack11], \n",
    "                       ['1','2','3','4','5','6','7','8','9','10','11']): \n",
    "    names.append(label)\n",
    "    score = fit_model(model)     #,xgb_re,'XGBoost',\n",
    "    results.append(score)\n",
    "results_df = pd.DataFrame(results,names)    \n"
   ]
  },
  {
   "cell_type": "code",
   "execution_count": 6,
   "metadata": {},
   "outputs": [
    {
     "name": "stdout",
     "output_type": "stream",
     "text": [
      "score: 0.738 (+/- 0.133) \n",
      "score: 0.765 (+/- 0.137) \n",
      "score: 0.754 (+/- 0.143) \n",
      "score: 0.734 (+/- 0.102) \n",
      "score: 0.770 (+/- 0.137) \n",
      "score: 0.758 (+/- 0.133) \n",
      "score: 0.744 (+/- 0.132) \n",
      "score: 0.770 (+/- 0.126) \n",
      "score: 0.768 (+/- 0.129) \n",
      "score: 0.758 (+/- 0.125) \n",
      "score: 0.766 (+/- 0.119) \n"
     ]
    },
    {
     "ename": "NameError",
     "evalue": "name 'plt' is not defined",
     "output_type": "error",
     "traceback": [
      "\u001b[1;31m---------------------------------------------------------------------------\u001b[0m",
      "\u001b[1;31mNameError\u001b[0m                                 Traceback (most recent call last)",
      "\u001b[1;32m~\\AppData\\Local\\Temp/ipykernel_39928/247623502.py\u001b[0m in \u001b[0;36m<module>\u001b[1;34m\u001b[0m\n\u001b[0;32m     13\u001b[0m     \u001b[0mna\u001b[0m\u001b[1;33m.\u001b[0m\u001b[0mappend\u001b[0m\u001b[1;33m(\u001b[0m\u001b[0mlabel\u001b[0m\u001b[1;33m)\u001b[0m\u001b[1;33m\u001b[0m\u001b[1;33m\u001b[0m\u001b[0m\n\u001b[0;32m     14\u001b[0m     \u001b[0mprint\u001b[0m\u001b[1;33m(\u001b[0m\u001b[1;34m\"score: %0.3f (+/- %0.3f) \"\u001b[0m  \u001b[1;33m%\u001b[0m \u001b[1;33m(\u001b[0m\u001b[0mscore\u001b[0m\u001b[1;33m.\u001b[0m\u001b[0mmean\u001b[0m\u001b[1;33m(\u001b[0m\u001b[1;33m)\u001b[0m\u001b[1;33m,\u001b[0m \u001b[0mscore\u001b[0m\u001b[1;33m.\u001b[0m\u001b[0mstd\u001b[0m\u001b[1;33m(\u001b[0m\u001b[1;33m)\u001b[0m\u001b[1;33m)\u001b[0m\u001b[1;33m)\u001b[0m\u001b[1;33m\u001b[0m\u001b[1;33m\u001b[0m\u001b[0m\n\u001b[1;32m---> 15\u001b[1;33m \u001b[0mplt\u001b[0m\u001b[1;33m.\u001b[0m\u001b[0mboxplot\u001b[0m\u001b[1;33m(\u001b[0m\u001b[0mre\u001b[0m\u001b[1;33m,\u001b[0m \u001b[0mlabels\u001b[0m\u001b[1;33m=\u001b[0m\u001b[0mna\u001b[0m\u001b[1;33m,\u001b[0m \u001b[0mshowmeans\u001b[0m\u001b[1;33m=\u001b[0m\u001b[1;32mTrue\u001b[0m\u001b[1;33m,\u001b[0m\u001b[0mshowfliers\u001b[0m\u001b[1;33m=\u001b[0m \u001b[1;32mFalse\u001b[0m\u001b[1;33m,\u001b[0m\u001b[0mvert\u001b[0m\u001b[1;33m=\u001b[0m\u001b[1;32mTrue\u001b[0m\u001b[1;33m)\u001b[0m\u001b[1;33m\u001b[0m\u001b[1;33m\u001b[0m\u001b[0m\n\u001b[0m\u001b[0;32m     16\u001b[0m \u001b[1;33m\u001b[0m\u001b[0m\n\u001b[0;32m     17\u001b[0m \u001b[1;33m\u001b[0m\u001b[0m\n",
      "\u001b[1;31mNameError\u001b[0m: name 'plt' is not defined"
     ]
    }
   ],
   "source": [
    "from sklearn.model_selection import cross_val_score,KFold\n",
    "def evaluate_model(model):\n",
    "    cv = KFold(n_splits=10, shuffle=True, random_state=666)\n",
    "    scores = cross_val_score(model, X, y, scoring='r2', cv=cv)\n",
    "    #scores = np.sqrt(mean_squared_error(train_y.astype('int'),model.predict(train_x.values)))\n",
    "    return scores\n",
    "re = []\n",
    "na = []\n",
    "for model in [stack1,stack2,stack3,stack4,stack5,\n",
    "                        stack6,stack7,stack8,stack9,stack10,stack11]: \n",
    "    score = evaluate_model(model)     #,xgb_re,'XGBoost',\n",
    "    re.append(score)\n",
    "    na.append(label)\n",
    "    print(\"score: %0.3f (+/- %0.3f) \"  % (score.mean(), score.std()))\n",
    "plt.boxplot(re, labels=na, showmeans=True,showfliers= False,vert=True)\n",
    "\n",
    "\n",
    "#放在一起比差异太小啦！\n",
    "re_all = results + re\n",
    "na_all = names + na\n"
   ]
  },
  {
   "cell_type": "code",
   "execution_count": 11,
   "metadata": {},
   "outputs": [],
   "source": [
    "results_df.to_csv(\"jicheng-BMF.csv\")"
   ]
  },
  {
   "cell_type": "code",
   "execution_count": 19,
   "metadata": {},
   "outputs": [],
   "source": [
    "pred1=pd.DataFrame(stack2.predict(X))\n",
    "pred2=pd.DataFrame(stack2.predict(X2))\n",
    "pred1.to_csv(\"stack2-BMF-train.csv\")\n",
    "pred2.to_csv(\"stack2-BMF-test.csv\")"
   ]
  },
  {
   "cell_type": "code",
   "execution_count": 23,
   "metadata": {},
   "outputs": [
    {
     "data": {
      "text/plain": [
       "0.790423681199539"
      ]
     },
     "execution_count": 23,
     "metadata": {},
     "output_type": "execute_result"
    }
   ],
   "source": [
    "r2_tra = r2_score(y2,pred2)\n",
    "r2_tra"
   ]
  },
  {
   "cell_type": "code",
   "execution_count": 24,
   "metadata": {},
   "outputs": [
    {
     "data": {
      "text/plain": [
       "0.7626495140247337"
      ]
     },
     "execution_count": 24,
     "metadata": {},
     "output_type": "execute_result"
    }
   ],
   "source": [
    "r2_tra = r2_score(pred2,y2)\n",
    "r2_tra"
   ]
  },
  {
   "cell_type": "code",
   "execution_count": null,
   "metadata": {},
   "outputs": [],
   "source": []
  }
 ],
 "metadata": {
  "kernelspec": {
   "display_name": "Python 3 (ipykernel)",
   "language": "python",
   "name": "python3"
  },
  "language_info": {
   "codemirror_mode": {
    "name": "ipython",
    "version": 3
   },
   "file_extension": ".py",
   "mimetype": "text/x-python",
   "name": "python",
   "nbconvert_exporter": "python",
   "pygments_lexer": "ipython3",
   "version": "3.7.11"
  }
 },
 "nbformat": 4,
 "nbformat_minor": 2
}
